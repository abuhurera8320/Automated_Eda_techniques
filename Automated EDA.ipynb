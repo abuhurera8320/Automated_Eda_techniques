{
 "cells": [
  {
   "cell_type": "code",
   "execution_count": 1,
   "id": "47ba60ae",
   "metadata": {},
   "outputs": [
    {
     "name": "stdout",
     "output_type": "stream",
     "text": [
      "Collecting pandas_profiling\n",
      "  Downloading pandas_profiling-3.2.0-py2.py3-none-any.whl (262 kB)\n",
      "Requirement already satisfied: numpy>=1.16.0 in c:\\users\\hurera\\anaconda3\\envs\\myenv\\lib\\site-packages (from pandas_profiling) (1.21.2)\n",
      "Requirement already satisfied: matplotlib>=3.2.0 in c:\\users\\hurera\\anaconda3\\envs\\myenv\\lib\\site-packages (from pandas_profiling) (3.5.1)\n",
      "Collecting visions[type_image_path]==0.7.4\n",
      "  Downloading visions-0.7.4-py3-none-any.whl (102 kB)\n",
      "Requirement already satisfied: scipy>=1.4.1 in c:\\users\\hurera\\anaconda3\\envs\\myenv\\lib\\site-packages (from pandas_profiling) (1.7.3)\n",
      "Collecting tangled-up-in-unicode==0.2.0\n",
      "  Downloading tangled_up_in_unicode-0.2.0-py3-none-any.whl (4.7 MB)\n",
      "Requirement already satisfied: requests>=2.24.0 in c:\\users\\hurera\\anaconda3\\envs\\myenv\\lib\\site-packages (from pandas_profiling) (2.27.1)\n",
      "Requirement already satisfied: pandas!=1.0.0,!=1.0.1,!=1.0.2,!=1.1.0,>=0.25.3 in c:\\users\\hurera\\anaconda3\\envs\\myenv\\lib\\site-packages (from pandas_profiling) (1.3.5)\n",
      "Collecting tqdm>=4.48.2\n",
      "  Downloading tqdm-4.64.0-py2.py3-none-any.whl (78 kB)\n",
      "Collecting htmlmin>=0.1.12\n",
      "  Downloading htmlmin-0.1.12.tar.gz (19 kB)\n",
      "Requirement already satisfied: seaborn>=0.10.1 in c:\\users\\hurera\\anaconda3\\envs\\myenv\\lib\\site-packages (from pandas_profiling) (0.11.2)\n",
      "Collecting multimethod>=1.4\n",
      "  Downloading multimethod-1.8-py3-none-any.whl (9.8 kB)\n",
      "Collecting PyYAML>=5.0.0\n",
      "  Downloading PyYAML-6.0-cp39-cp39-win_amd64.whl (151 kB)\n",
      "Collecting phik>=0.11.1\n",
      "  Downloading phik-0.12.2-cp39-cp39-win_amd64.whl (685 kB)\n",
      "Collecting markupsafe~=2.1.1\n",
      "  Downloading MarkupSafe-2.1.1-cp39-cp39-win_amd64.whl (17 kB)\n",
      "Collecting missingno>=0.4.2\n",
      "  Downloading missingno-0.5.1-py3-none-any.whl (8.7 kB)\n",
      "Collecting pydantic>=1.8.1\n",
      "  Downloading pydantic-1.9.1-cp39-cp39-win_amd64.whl (2.0 MB)\n",
      "Requirement already satisfied: joblib~=1.1.0 in c:\\users\\hurera\\anaconda3\\envs\\myenv\\lib\\site-packages (from pandas_profiling) (1.1.0)\n",
      "Requirement already satisfied: jinja2>=2.11.1 in c:\\users\\hurera\\anaconda3\\envs\\myenv\\lib\\site-packages (from pandas_profiling) (3.0.2)\n",
      "Collecting networkx>=2.4\n",
      "  Downloading networkx-2.8.2-py3-none-any.whl (2.0 MB)\n",
      "Requirement already satisfied: attrs>=19.3.0 in c:\\users\\hurera\\anaconda3\\envs\\myenv\\lib\\site-packages (from visions[type_image_path]==0.7.4->pandas_profiling) (21.4.0)\n",
      "Collecting imagehash\n",
      "  Downloading ImageHash-4.2.1.tar.gz (812 kB)\n",
      "Requirement already satisfied: Pillow in c:\\users\\hurera\\anaconda3\\envs\\myenv\\lib\\site-packages (from visions[type_image_path]==0.7.4->pandas_profiling) (9.0.0)\n",
      "Requirement already satisfied: fonttools>=4.22.0 in c:\\users\\hurera\\anaconda3\\envs\\myenv\\lib\\site-packages (from matplotlib>=3.2.0->pandas_profiling) (4.29.0)\n",
      "Requirement already satisfied: kiwisolver>=1.0.1 in c:\\users\\hurera\\anaconda3\\envs\\myenv\\lib\\site-packages (from matplotlib>=3.2.0->pandas_profiling) (1.3.2)\n",
      "Requirement already satisfied: python-dateutil>=2.7 in c:\\users\\hurera\\anaconda3\\envs\\myenv\\lib\\site-packages (from matplotlib>=3.2.0->pandas_profiling) (2.8.2)\n",
      "Requirement already satisfied: cycler>=0.10 in c:\\users\\hurera\\anaconda3\\envs\\myenv\\lib\\site-packages (from matplotlib>=3.2.0->pandas_profiling) (0.11.0)\n",
      "Requirement already satisfied: packaging>=20.0 in c:\\users\\hurera\\anaconda3\\envs\\myenv\\lib\\site-packages (from matplotlib>=3.2.0->pandas_profiling) (21.3)\n",
      "Requirement already satisfied: pyparsing>=2.2.1 in c:\\users\\hurera\\anaconda3\\envs\\myenv\\lib\\site-packages (from matplotlib>=3.2.0->pandas_profiling) (3.0.4)\n",
      "Requirement already satisfied: pytz>=2017.3 in c:\\users\\hurera\\anaconda3\\envs\\myenv\\lib\\site-packages (from pandas!=1.0.0,!=1.0.1,!=1.0.2,!=1.1.0,>=0.25.3->pandas_profiling) (2021.3)\n",
      "Requirement already satisfied: typing-extensions>=3.7.4.3 in c:\\users\\hurera\\anaconda3\\envs\\myenv\\lib\\site-packages (from pydantic>=1.8.1->pandas_profiling) (4.0.1)\n",
      "Requirement already satisfied: six>=1.5 in c:\\users\\hurera\\anaconda3\\envs\\myenv\\lib\\site-packages (from python-dateutil>=2.7->matplotlib>=3.2.0->pandas_profiling) (1.16.0)\n",
      "Requirement already satisfied: urllib3<1.27,>=1.21.1 in c:\\users\\hurera\\anaconda3\\envs\\myenv\\lib\\site-packages (from requests>=2.24.0->pandas_profiling) (1.26.8)\n",
      "Requirement already satisfied: certifi>=2017.4.17 in c:\\users\\hurera\\anaconda3\\envs\\myenv\\lib\\site-packages (from requests>=2.24.0->pandas_profiling) (2021.10.8)\n",
      "Requirement already satisfied: idna<4,>=2.5 in c:\\users\\hurera\\anaconda3\\envs\\myenv\\lib\\site-packages (from requests>=2.24.0->pandas_profiling) (3.3)\n",
      "Requirement already satisfied: charset-normalizer~=2.0.0 in c:\\users\\hurera\\anaconda3\\envs\\myenv\\lib\\site-packages (from requests>=2.24.0->pandas_profiling) (2.0.11)\n",
      "Requirement already satisfied: colorama in c:\\users\\hurera\\anaconda3\\envs\\myenv\\lib\\site-packages (from tqdm>=4.48.2->pandas_profiling) (0.4.4)\n",
      "Collecting PyWavelets\n",
      "  Downloading PyWavelets-1.3.0-cp39-cp39-win_amd64.whl (4.2 MB)\n",
      "Building wheels for collected packages: htmlmin, imagehash\n",
      "  Building wheel for htmlmin (setup.py): started\n",
      "  Building wheel for htmlmin (setup.py): finished with status 'done'\n",
      "  Created wheel for htmlmin: filename=htmlmin-0.1.12-py3-none-any.whl size=27098 sha256=edbcb80f1438df50763435bcf3259926d5691abbaf0a51b65e665e8a77b5fc5b\n",
      "  Stored in directory: c:\\users\\hurera\\appdata\\local\\pip\\cache\\wheels\\1d\\05\\04\\c6d7d3b66539d9e659ac6dfe81e2d0fd4c1a8316cc5a403300\n",
      "  Building wheel for imagehash (setup.py): started\n",
      "  Building wheel for imagehash (setup.py): finished with status 'done'\n",
      "  Created wheel for imagehash: filename=ImageHash-4.2.1-py2.py3-none-any.whl size=295206 sha256=bc0bbad93d58d5c00f590744e9258cea5e072298711269a9b2270cda01a5a9e3\n",
      "  Stored in directory: c:\\users\\hurera\\appdata\\local\\pip\\cache\\wheels\\51\\f9\\a5\\740af2fdb0ad1edf79aabdc41531be0b6f0b2e2be684c388cf\n",
      "Successfully built htmlmin imagehash\n",
      "Installing collected packages: tangled-up-in-unicode, PyWavelets, networkx, multimethod, visions, markupsafe, imagehash, tqdm, PyYAML, pydantic, phik, missingno, htmlmin, pandas-profiling\n",
      "  Attempting uninstall: markupsafe\n",
      "    Found existing installation: MarkupSafe 2.0.1\n",
      "    Uninstalling MarkupSafe-2.0.1:\n",
      "      Successfully uninstalled MarkupSafe-2.0.1\n",
      "Successfully installed PyWavelets-1.3.0 PyYAML-6.0 htmlmin-0.1.12 imagehash-4.2.1 markupsafe-2.1.1 missingno-0.5.1 multimethod-1.8 networkx-2.8.2 pandas-profiling-3.2.0 phik-0.12.2 pydantic-1.9.1 tangled-up-in-unicode-0.2.0 tqdm-4.64.0 visions-0.7.4\n"
     ]
    }
   ],
   "source": [
    "!pip install pandas_profiling"
   ]
  },
  {
   "cell_type": "code",
   "execution_count": 2,
   "id": "5fde04a8",
   "metadata": {},
   "outputs": [
    {
     "name": "stderr",
     "output_type": "stream",
     "text": [
      "C:\\Users\\Hurera\\anaconda3\\envs\\myenv\\lib\\site-packages\\tqdm\\auto.py:22: TqdmWarning: IProgress not found. Please update jupyter and ipywidgets. See https://ipywidgets.readthedocs.io/en/stable/user_install.html\n",
      "  from .autonotebook import tqdm as notebook_tqdm\n"
     ]
    }
   ],
   "source": [
    "import pandas_profiling"
   ]
  },
  {
   "cell_type": "code",
   "execution_count": 4,
   "id": "e9dd5c8e",
   "metadata": {},
   "outputs": [],
   "source": [
    "import seaborn as sns"
   ]
  },
  {
   "cell_type": "code",
   "execution_count": 6,
   "id": "4ef1b384",
   "metadata": {},
   "outputs": [],
   "source": [
    "df=sns.load_dataset('tips')"
   ]
  },
  {
   "cell_type": "code",
   "execution_count": 7,
   "id": "020568b2",
   "metadata": {},
   "outputs": [
    {
     "data": {
      "text/html": [
       "<div>\n",
       "<style scoped>\n",
       "    .dataframe tbody tr th:only-of-type {\n",
       "        vertical-align: middle;\n",
       "    }\n",
       "\n",
       "    .dataframe tbody tr th {\n",
       "        vertical-align: top;\n",
       "    }\n",
       "\n",
       "    .dataframe thead th {\n",
       "        text-align: right;\n",
       "    }\n",
       "</style>\n",
       "<table border=\"1\" class=\"dataframe\">\n",
       "  <thead>\n",
       "    <tr style=\"text-align: right;\">\n",
       "      <th></th>\n",
       "      <th>total_bill</th>\n",
       "      <th>tip</th>\n",
       "      <th>sex</th>\n",
       "      <th>smoker</th>\n",
       "      <th>day</th>\n",
       "      <th>time</th>\n",
       "      <th>size</th>\n",
       "    </tr>\n",
       "  </thead>\n",
       "  <tbody>\n",
       "    <tr>\n",
       "      <th>0</th>\n",
       "      <td>16.99</td>\n",
       "      <td>1.01</td>\n",
       "      <td>Female</td>\n",
       "      <td>No</td>\n",
       "      <td>Sun</td>\n",
       "      <td>Dinner</td>\n",
       "      <td>2</td>\n",
       "    </tr>\n",
       "    <tr>\n",
       "      <th>1</th>\n",
       "      <td>10.34</td>\n",
       "      <td>1.66</td>\n",
       "      <td>Male</td>\n",
       "      <td>No</td>\n",
       "      <td>Sun</td>\n",
       "      <td>Dinner</td>\n",
       "      <td>3</td>\n",
       "    </tr>\n",
       "    <tr>\n",
       "      <th>2</th>\n",
       "      <td>21.01</td>\n",
       "      <td>3.50</td>\n",
       "      <td>Male</td>\n",
       "      <td>No</td>\n",
       "      <td>Sun</td>\n",
       "      <td>Dinner</td>\n",
       "      <td>3</td>\n",
       "    </tr>\n",
       "    <tr>\n",
       "      <th>3</th>\n",
       "      <td>23.68</td>\n",
       "      <td>3.31</td>\n",
       "      <td>Male</td>\n",
       "      <td>No</td>\n",
       "      <td>Sun</td>\n",
       "      <td>Dinner</td>\n",
       "      <td>2</td>\n",
       "    </tr>\n",
       "    <tr>\n",
       "      <th>4</th>\n",
       "      <td>24.59</td>\n",
       "      <td>3.61</td>\n",
       "      <td>Female</td>\n",
       "      <td>No</td>\n",
       "      <td>Sun</td>\n",
       "      <td>Dinner</td>\n",
       "      <td>4</td>\n",
       "    </tr>\n",
       "  </tbody>\n",
       "</table>\n",
       "</div>"
      ],
      "text/plain": [
       "   total_bill   tip     sex smoker  day    time  size\n",
       "0       16.99  1.01  Female     No  Sun  Dinner     2\n",
       "1       10.34  1.66    Male     No  Sun  Dinner     3\n",
       "2       21.01  3.50    Male     No  Sun  Dinner     3\n",
       "3       23.68  3.31    Male     No  Sun  Dinner     2\n",
       "4       24.59  3.61  Female     No  Sun  Dinner     4"
      ]
     },
     "execution_count": 7,
     "metadata": {},
     "output_type": "execute_result"
    }
   ],
   "source": [
    "df.head()"
   ]
  },
  {
   "cell_type": "code",
   "execution_count": 11,
   "id": "08749e21",
   "metadata": {},
   "outputs": [
    {
     "data": {
      "text/plain": [
       "(244, 7)"
      ]
     },
     "execution_count": 11,
     "metadata": {},
     "output_type": "execute_result"
    }
   ],
   "source": [
    "df.shape"
   ]
  },
  {
   "cell_type": "markdown",
   "id": "243287df",
   "metadata": {},
   "source": [
    "## Automated EDA Techniques"
   ]
  },
  {
   "cell_type": "code",
   "execution_count": 9,
   "id": "9016bdce",
   "metadata": {},
   "outputs": [],
   "source": [
    "from pandas_profiling import ProfileReport"
   ]
  },
  {
   "cell_type": "code",
   "execution_count": 10,
   "id": "32075e7c",
   "metadata": {},
   "outputs": [],
   "source": [
    "profile=ProfileReport(df,explorative=True,dark_mode=True)"
   ]
  },
  {
   "cell_type": "code",
   "execution_count": 13,
   "id": "b82dae4a",
   "metadata": {},
   "outputs": [
    {
     "name": "stderr",
     "output_type": "stream",
     "text": [
      "Summarize dataset: 100%|████████████████████████████████████████████████████| 29/29 [00:17<00:00,  1.69it/s, Completed]\n",
      "Generate report structure: 100%|█████████████████████████████████████████████████████████| 1/1 [00:07<00:00,  7.42s/it]\n",
      "Render HTML: 100%|███████████████████████████████████████████████████████████████████████| 1/1 [00:01<00:00,  1.98s/it]\n",
      "Export report to file: 100%|█████████████████████████████████████████████████████████████| 1/1 [00:00<00:00, 65.30it/s]\n"
     ]
    }
   ],
   "source": [
    "profile.to_file('output.html')"
   ]
  },
  {
   "cell_type": "code",
   "execution_count": 17,
   "id": "a7c7996d",
   "metadata": {},
   "outputs": [
    {
     "name": "stdout",
     "output_type": "stream",
     "text": [
      "Collecting dtale\n",
      "  Downloading dtale-2.4.0-py2.py3-none-any.whl (12.9 MB)\n",
      "Collecting squarify\n",
      "  Downloading squarify-0.4.3-py3-none-any.whl (4.3 kB)\n",
      "Collecting Flask\n",
      "  Downloading Flask-2.1.2-py3-none-any.whl (95 kB)\n",
      "Collecting Flask-Compress\n",
      "  Downloading Flask_Compress-1.12-py3-none-any.whl (7.9 kB)\n",
      "Collecting statsmodels\n",
      "  Downloading statsmodels-0.13.2-cp39-cp39-win_amd64.whl (9.1 MB)\n",
      "Collecting xlrd\n",
      "  Downloading xlrd-2.0.1-py2.py3-none-any.whl (96 kB)\n",
      "Collecting dash>=2.0.0\n",
      "  Downloading dash-2.4.1-py3-none-any.whl (9.8 MB)\n",
      "Requirement already satisfied: six in c:\\users\\hurera\\anaconda3\\envs\\myenv\\lib\\site-packages (from dtale) (1.16.0)\n",
      "Requirement already satisfied: seaborn in c:\\users\\hurera\\anaconda3\\envs\\myenv\\lib\\site-packages (from dtale) (0.11.2)\n",
      "Collecting itsdangerous\n",
      "  Downloading itsdangerous-2.1.2-py3-none-any.whl (15 kB)\n",
      "Collecting dash-daq\n",
      "  Downloading dash_daq-0.5.0.tar.gz (642 kB)\n",
      "Collecting xarray\n",
      "  Downloading xarray-2022.3.0-py3-none-any.whl (870 kB)\n",
      "Requirement already satisfied: et-xmlfile in c:\\users\\hurera\\anaconda3\\envs\\myenv\\lib\\site-packages (from dtale) (1.1.0)\n",
      "Requirement already satisfied: scipy in c:\\users\\hurera\\anaconda3\\envs\\myenv\\lib\\site-packages (from dtale) (1.7.3)\n",
      "Collecting future>=0.14.0\n",
      "  Downloading future-0.18.2.tar.gz (829 kB)\n",
      "Requirement already satisfied: scikit-learn in c:\\users\\hurera\\anaconda3\\envs\\myenv\\lib\\site-packages (from dtale) (1.0.2)\n",
      "Collecting flask-ngrok\n",
      "  Downloading flask_ngrok-0.0.25-py3-none-any.whl (3.1 kB)\n",
      "Requirement already satisfied: cycler in c:\\users\\hurera\\anaconda3\\envs\\myenv\\lib\\site-packages (from dtale) (0.11.0)\n",
      "Requirement already satisfied: pandas in c:\\users\\hurera\\anaconda3\\envs\\myenv\\lib\\site-packages (from dtale) (1.3.5)\n",
      "Requirement already satisfied: openpyxl in c:\\users\\hurera\\anaconda3\\envs\\myenv\\lib\\site-packages (from dtale) (3.0.9)\n",
      "Collecting lz4\n",
      "  Downloading lz4-4.0.1-cp39-cp39-win_amd64.whl (98 kB)\n",
      "Collecting plotly>=5.0.0\n",
      "  Downloading plotly-5.8.0-py2.py3-none-any.whl (15.2 MB)\n",
      "Collecting dash-colorscales\n",
      "  Downloading dash_colorscales-0.0.4.tar.gz (62 kB)\n",
      "Requirement already satisfied: matplotlib in c:\\users\\hurera\\anaconda3\\envs\\myenv\\lib\\site-packages (from dtale) (3.5.1)\n",
      "Requirement already satisfied: numpy in c:\\users\\hurera\\anaconda3\\envs\\myenv\\lib\\site-packages (from dtale) (1.21.2)\n",
      "Collecting strsimpy\n",
      "  Downloading strsimpy-0.2.1-py3-none-any.whl (45 kB)\n",
      "Collecting missingno<=0.4.2\n",
      "  Downloading missingno-0.4.2-py3-none-any.whl (9.7 kB)\n",
      "Requirement already satisfied: requests in c:\\users\\hurera\\anaconda3\\envs\\myenv\\lib\\site-packages (from dtale) (2.27.1)\n",
      "Collecting dash-bootstrap-components\n",
      "  Downloading dash_bootstrap_components-1.1.0-py3-none-any.whl (210 kB)\n",
      "Requirement already satisfied: networkx in c:\\users\\hurera\\anaconda3\\envs\\myenv\\lib\\site-packages (from dtale) (2.8.2)\n",
      "Collecting kaleido\n",
      "  Downloading kaleido-0.2.1-py2.py3-none-win_amd64.whl (65.9 MB)\n",
      "Collecting dash-html-components==2.0.0\n",
      "  Using cached dash_html_components-2.0.0-py3-none-any.whl (4.1 kB)\n",
      "Collecting dash-core-components==2.0.0\n",
      "  Using cached dash_core_components-2.0.0-py3-none-any.whl (3.8 kB)\n",
      "Collecting dash-table==5.0.0\n",
      "  Using cached dash_table-5.0.0-py3-none-any.whl (3.9 kB)\n",
      "Requirement already satisfied: Jinja2>=3.0 in c:\\users\\hurera\\anaconda3\\envs\\myenv\\lib\\site-packages (from Flask->dtale) (3.0.2)\n",
      "Requirement already satisfied: importlib-metadata>=3.6.0 in c:\\users\\hurera\\anaconda3\\envs\\myenv\\lib\\site-packages (from Flask->dtale) (4.8.2)\n",
      "Requirement already satisfied: Werkzeug>=2.0 in c:\\users\\hurera\\anaconda3\\envs\\myenv\\lib\\site-packages (from Flask->dtale) (2.0.2)\n",
      "Collecting click>=8.0\n",
      "  Using cached click-8.1.3-py3-none-any.whl (96 kB)\n",
      "Requirement already satisfied: colorama in c:\\users\\hurera\\anaconda3\\envs\\myenv\\lib\\site-packages (from click>=8.0->Flask->dtale) (0.4.4)\n",
      "Requirement already satisfied: zipp>=0.5 in c:\\users\\hurera\\anaconda3\\envs\\myenv\\lib\\site-packages (from importlib-metadata>=3.6.0->Flask->dtale) (3.7.0)\n",
      "Requirement already satisfied: MarkupSafe>=2.0 in c:\\users\\hurera\\anaconda3\\envs\\myenv\\lib\\site-packages (from Jinja2>=3.0->Flask->dtale) (2.1.1)\n",
      "Collecting tenacity>=6.2.0\n",
      "  Using cached tenacity-8.0.1-py3-none-any.whl (24 kB)\n",
      "Collecting brotli\n",
      "  Using cached Brotli-1.0.9-cp39-cp39-win_amd64.whl (383 kB)\n",
      "Requirement already satisfied: fonttools>=4.22.0 in c:\\users\\hurera\\anaconda3\\envs\\myenv\\lib\\site-packages (from matplotlib->dtale) (4.29.0)\n",
      "Requirement already satisfied: pyparsing>=2.2.1 in c:\\users\\hurera\\anaconda3\\envs\\myenv\\lib\\site-packages (from matplotlib->dtale) (3.0.4)\n",
      "Requirement already satisfied: python-dateutil>=2.7 in c:\\users\\hurera\\anaconda3\\envs\\myenv\\lib\\site-packages (from matplotlib->dtale) (2.8.2)\n",
      "Requirement already satisfied: kiwisolver>=1.0.1 in c:\\users\\hurera\\anaconda3\\envs\\myenv\\lib\\site-packages (from matplotlib->dtale) (1.3.2)\n",
      "Requirement already satisfied: pillow>=6.2.0 in c:\\users\\hurera\\anaconda3\\envs\\myenv\\lib\\site-packages (from matplotlib->dtale) (9.0.0)\n",
      "Requirement already satisfied: packaging>=20.0 in c:\\users\\hurera\\anaconda3\\envs\\myenv\\lib\\site-packages (from matplotlib->dtale) (21.3)\n",
      "Requirement already satisfied: pytz>=2017.3 in c:\\users\\hurera\\anaconda3\\envs\\myenv\\lib\\site-packages (from pandas->dtale) (2021.3)\n",
      "Requirement already satisfied: idna<4,>=2.5 in c:\\users\\hurera\\anaconda3\\envs\\myenv\\lib\\site-packages (from requests->dtale) (3.3)\n",
      "Requirement already satisfied: urllib3<1.27,>=1.21.1 in c:\\users\\hurera\\anaconda3\\envs\\myenv\\lib\\site-packages (from requests->dtale) (1.26.8)\n",
      "Requirement already satisfied: certifi>=2017.4.17 in c:\\users\\hurera\\anaconda3\\envs\\myenv\\lib\\site-packages (from requests->dtale) (2021.10.8)\n",
      "Requirement already satisfied: charset-normalizer~=2.0.0 in c:\\users\\hurera\\anaconda3\\envs\\myenv\\lib\\site-packages (from requests->dtale) (2.0.11)\n",
      "Requirement already satisfied: threadpoolctl>=2.0.0 in c:\\users\\hurera\\anaconda3\\envs\\myenv\\lib\\site-packages (from scikit-learn->dtale) (3.1.0)\n",
      "Requirement already satisfied: joblib>=0.11 in c:\\users\\hurera\\anaconda3\\envs\\myenv\\lib\\site-packages (from scikit-learn->dtale) (1.1.0)\n",
      "Collecting patsy>=0.5.2\n",
      "  Using cached patsy-0.5.2-py2.py3-none-any.whl (233 kB)\n",
      "Building wheels for collected packages: future, dash-colorscales, dash-daq\n",
      "  Building wheel for future (setup.py): started\n",
      "  Building wheel for future (setup.py): finished with status 'done'\n",
      "  Created wheel for future: filename=future-0.18.2-py3-none-any.whl size=491070 sha256=f587132d8e33655e3ed3b81937fde033f7d39e84ac01ab4829abb70bd4d9ed4c\n",
      "  Stored in directory: c:\\users\\hurera\\appdata\\local\\pip\\cache\\wheels\\2f\\a0\\d3\\4030d9f80e6b3be787f19fc911b8e7aa462986a40ab1e4bb94\n",
      "  Building wheel for dash-colorscales (setup.py): started\n",
      "  Building wheel for dash-colorscales (setup.py): finished with status 'done'\n",
      "  Created wheel for dash-colorscales: filename=dash_colorscales-0.0.4-py3-none-any.whl size=62590 sha256=5f2294ef4b80ac4d0e83257ff7685c28ee56de078bf778f27230b07ef74d52ff\n",
      "  Stored in directory: c:\\users\\hurera\\appdata\\local\\pip\\cache\\wheels\\ec\\32\\ec\\dc8a1aa820182edf280a5e26c76fc9493ae29e196735708de2\n",
      "  Building wheel for dash-daq (setup.py): started\n",
      "  Building wheel for dash-daq (setup.py): finished with status 'done'\n",
      "  Created wheel for dash-daq: filename=dash_daq-0.5.0-py3-none-any.whl size=669714 sha256=b29bbc38968dbd5326510ce3bf7411a717aa0bd8363a1a78ed5cdd949bfe5141\n",
      "  Stored in directory: c:\\users\\hurera\\appdata\\local\\pip\\cache\\wheels\\53\\73\\ea\\8a422aab5cab848d88653ed3087c1fa05553c3fbd67fb6ab75\n",
      "Successfully built future dash-colorscales dash-daq\n",
      "Installing collected packages: itsdangerous, click, tenacity, Flask, brotli, plotly, Flask-Compress, dash-table, dash-html-components, dash-core-components, patsy, dash, xlrd, xarray, strsimpy, statsmodels, squarify, missingno, lz4, kaleido, future, flask-ngrok, dash-daq, dash-colorscales, dash-bootstrap-components, dtale\n"
     ]
    },
    {
     "name": "stderr",
     "output_type": "stream",
     "text": [
      "WARNING: Error parsing requirements for missingno: [Errno 2] No such file or directory: 'c:\\\\users\\\\hurera\\\\anaconda3\\\\envs\\\\myenv\\\\lib\\\\site-packages\\\\missingno-0.5.1.dist-info\\\\METADATA'\n",
      "ERROR: Could not install packages due to an OSError: [WinError 5] Access is denied: 'C:\\\\Users\\\\Hurera\\\\anaconda3\\\\envs\\\\myenv\\\\Lib\\\\site-packages\\\\_brotli.cp39-win_amd64.pyd'\n",
      "Consider using the `--user` option or check the permissions.\n",
      "\n"
     ]
    }
   ],
   "source": [
    "import dtale"
   ]
  },
  {
   "cell_type": "code",
   "execution_count": 18,
   "id": "ccf2b7dc",
   "metadata": {},
   "outputs": [
    {
     "data": {
      "text/html": [
       "\n",
       "        <iframe\n",
       "            width=\"100%\"\n",
       "            height=\"475\"\n",
       "            src=\"http://X1Yoga:40000/dtale/iframe/1\"\n",
       "            frameborder=\"0\"\n",
       "            allowfullscreen\n",
       "            \n",
       "        ></iframe>\n",
       "        "
      ],
      "text/plain": [
       "<IPython.lib.display.IFrame at 0x25ef288e100>"
      ]
     },
     "metadata": {},
     "output_type": "display_data"
    },
    {
     "data": {
      "text/plain": []
     },
     "execution_count": 18,
     "metadata": {},
     "output_type": "execute_result"
    }
   ],
   "source": [
    "dtale.show(df)"
   ]
  },
  {
   "cell_type": "code",
   "execution_count": null,
   "id": "fdc7fcc2",
   "metadata": {},
   "outputs": [],
   "source": []
  }
 ],
 "metadata": {
  "kernelspec": {
   "display_name": "Python 3 (ipykernel)",
   "language": "python",
   "name": "python3"
  },
  "language_info": {
   "codemirror_mode": {
    "name": "ipython",
    "version": 3
   },
   "file_extension": ".py",
   "mimetype": "text/x-python",
   "name": "python",
   "nbconvert_exporter": "python",
   "pygments_lexer": "ipython3",
   "version": "3.9.7"
  }
 },
 "nbformat": 4,
 "nbformat_minor": 5
}
